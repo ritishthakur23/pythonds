{
 "cells": [
  {
   "cell_type": "code",
   "execution_count": null,
   "id": "396e9fee-cb27-4c57-bfc3-62be637a8bbc",
   "metadata": {},
   "outputs": [],
   "source": [
    "!pip install pandas\n",
    "import pandas as pd"
   ]
  },
  {
   "cell_type": "code",
   "execution_count": null,
   "id": "db175c12-62d5-489c-ab67-0329fa992912",
   "metadata": {},
   "outputs": [],
   "source": [
    "#Question1\n",
    "data = pd.Series([100, 200, 300, 400], index=['x', 'y', 'z', 'w'])\n",
    "data.loc['y']"
   ]
  },
  {
   "cell_type": "code",
   "execution_count": null,
   "id": "222dfb0d-eca1-44f4-ade2-899fc641e784",
   "metadata": {},
   "outputs": [],
   "source": [
    "#Question2\n",
    "data.iloc[1]"
   ]
  },
  {
   "cell_type": "code",
   "execution_count": null,
   "id": "4d686f7b-848e-4182-bfed-0d87fe383b23",
   "metadata": {},
   "outputs": [],
   "source": [
    "#Question3\n",
    "data.loc[['x','w']]"
   ]
  },
  {
   "cell_type": "code",
   "execution_count": null,
   "id": "9d01c7b9-2aa0-4cae-b304-bfdb1e255667",
   "metadata": {},
   "outputs": [],
   "source": [
    "#Question4\n",
    "data.iloc[-1]"
   ]
  },
  {
   "cell_type": "code",
   "execution_count": null,
   "id": "8265694e-30de-4702-ad4b-eeaf121334d9",
   "metadata": {},
   "outputs": [],
   "source": [
    "#Question5\n",
    "data.loc['y':'z']"
   ]
  },
  {
   "cell_type": "code",
   "execution_count": null,
   "id": "e54c8b47-9b35-4852-b8c9-01277b5fee80",
   "metadata": {},
   "outputs": [],
   "source": [
    "#Question6\n",
    "data.iloc[2]\n",
    "#Accesses the 3rd element (0-based index) i.e 300\n",
    "data.loc[2]\n",
    "#Accesses the element with label 2 i.e error"
   ]
  },
  {
   "cell_type": "code",
   "execution_count": 26,
   "id": "b4329d04-913c-435f-b2dd-bb3de5a9e3c9",
   "metadata": {},
   "outputs": [
    {
     "data": {
      "text/plain": [
       "np.int64(100)"
      ]
     },
     "execution_count": 26,
     "metadata": {},
     "output_type": "execute_result"
    }
   ],
   "source": [
    "#Question7\n",
    "data.x"
   ]
  }
 ],
 "metadata": {
  "kernelspec": {
   "display_name": "Python 3 (ipykernel)",
   "language": "python",
   "name": "python3"
  },
  "language_info": {
   "codemirror_mode": {
    "name": "ipython",
    "version": 3
   },
   "file_extension": ".py",
   "mimetype": "text/x-python",
   "name": "python",
   "nbconvert_exporter": "python",
   "pygments_lexer": "ipython3",
   "version": "3.13.1"
  }
 },
 "nbformat": 4,
 "nbformat_minor": 5
}
